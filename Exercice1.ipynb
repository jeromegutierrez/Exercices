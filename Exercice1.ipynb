{
 "cells": [
  {
   "cell_type": "code",
   "execution_count": 9,
   "metadata": {},
   "outputs": [],
   "source": [
    "def count_lines(file):\n",
    "    fd = open(file, 'r')\n",
    "    n = 0\n",
    "    for line in fd:\n",
    "        n += 1\n",
    "    print(\"nombre de lignes du fichier\",file,\" : \",n)"
   ]
  },
  {
   "cell_type": "code",
   "execution_count": 10,
   "metadata": {},
   "outputs": [
    {
     "name": "stdout",
     "output_type": "stream",
     "text": [
      "nombre de lignes du fichier bookings.csv  :  9288048\n",
      "nombre de lignes du fichier searches.csv  :  20390199\n"
     ]
    }
   ],
   "source": [
    "count_lines('bookings.csv')\n",
    "count_lines('searches.csv')"
   ]
  }
 ],
 "metadata": {
  "kernelspec": {
   "display_name": "Python 3",
   "language": "python",
   "name": "python3"
  },
  "language_info": {
   "codemirror_mode": {
    "name": "ipython",
    "version": 3
   },
   "file_extension": ".py",
   "mimetype": "text/x-python",
   "name": "python",
   "nbconvert_exporter": "python",
   "pygments_lexer": "ipython3",
   "version": "3.7.3"
  }
 },
 "nbformat": 4,
 "nbformat_minor": 2
}
